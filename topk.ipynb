{
 "cells": [
  {
   "cell_type": "code",
   "execution_count": 1,
   "id": "f42ffc7d",
   "metadata": {},
   "outputs": [],
   "source": [
    "import pandas as pd"
   ]
  },
  {
   "cell_type": "code",
   "execution_count": 3,
   "id": "de2af236",
   "metadata": {},
   "outputs": [],
   "source": [
    "data = pd.read_csv(\"output/all.csv\")"
   ]
  },
  {
   "cell_type": "code",
   "execution_count": 4,
   "id": "3250ddc3",
   "metadata": {},
   "outputs": [
    {
     "data": {
      "text/html": [
       "<div>\n",
       "<style scoped>\n",
       "    .dataframe tbody tr th:only-of-type {\n",
       "        vertical-align: middle;\n",
       "    }\n",
       "\n",
       "    .dataframe tbody tr th {\n",
       "        vertical-align: top;\n",
       "    }\n",
       "\n",
       "    .dataframe thead th {\n",
       "        text-align: right;\n",
       "    }\n",
       "</style>\n",
       "<table border=\"1\" class=\"dataframe\">\n",
       "  <thead>\n",
       "    <tr style=\"text-align: right;\">\n",
       "      <th></th>\n",
       "      <th>query</th>\n",
       "      <th>engine</th>\n",
       "      <th>limit</th>\n",
       "      <th>execution_time</th>\n",
       "      <th>nb_calls</th>\n",
       "      <th>nb_results</th>\n",
       "      <th>loading_time</th>\n",
       "      <th>resume_time</th>\n",
       "      <th>workload</th>\n",
       "      <th>run</th>\n",
       "    </tr>\n",
       "  </thead>\n",
       "  <tbody>\n",
       "    <tr>\n",
       "      <th>0</th>\n",
       "      <td>C3</td>\n",
       "      <td>orderby</td>\n",
       "      <td>1</td>\n",
       "      <td>22.136542</td>\n",
       "      <td>113</td>\n",
       "      <td>1</td>\n",
       "      <td>11.149328</td>\n",
       "      <td>0.088820</td>\n",
       "      <td>watdiv</td>\n",
       "      <td>1</td>\n",
       "    </tr>\n",
       "    <tr>\n",
       "      <th>1</th>\n",
       "      <td>C3</td>\n",
       "      <td>orderby</td>\n",
       "      <td>1</td>\n",
       "      <td>22.182792</td>\n",
       "      <td>113</td>\n",
       "      <td>1</td>\n",
       "      <td>11.597458</td>\n",
       "      <td>0.088403</td>\n",
       "      <td>watdiv</td>\n",
       "      <td>2</td>\n",
       "    </tr>\n",
       "    <tr>\n",
       "      <th>2</th>\n",
       "      <td>C3</td>\n",
       "      <td>orderby</td>\n",
       "      <td>1</td>\n",
       "      <td>22.212452</td>\n",
       "      <td>114</td>\n",
       "      <td>1</td>\n",
       "      <td>11.488555</td>\n",
       "      <td>0.089844</td>\n",
       "      <td>watdiv</td>\n",
       "      <td>3</td>\n",
       "    </tr>\n",
       "    <tr>\n",
       "      <th>3</th>\n",
       "      <td>C3</td>\n",
       "      <td>orderby</td>\n",
       "      <td>10</td>\n",
       "      <td>22.452215</td>\n",
       "      <td>114</td>\n",
       "      <td>10</td>\n",
       "      <td>11.098878</td>\n",
       "      <td>0.125130</td>\n",
       "      <td>watdiv</td>\n",
       "      <td>1</td>\n",
       "    </tr>\n",
       "    <tr>\n",
       "      <th>4</th>\n",
       "      <td>C3</td>\n",
       "      <td>orderby</td>\n",
       "      <td>10</td>\n",
       "      <td>22.260090</td>\n",
       "      <td>114</td>\n",
       "      <td>10</td>\n",
       "      <td>11.284136</td>\n",
       "      <td>0.121878</td>\n",
       "      <td>watdiv</td>\n",
       "      <td>2</td>\n",
       "    </tr>\n",
       "  </tbody>\n",
       "</table>\n",
       "</div>"
      ],
      "text/plain": [
       "  query   engine  limit  execution_time  nb_calls  nb_results  loading_time  \\\n",
       "0    C3  orderby      1       22.136542       113           1     11.149328   \n",
       "1    C3  orderby      1       22.182792       113           1     11.597458   \n",
       "2    C3  orderby      1       22.212452       114           1     11.488555   \n",
       "3    C3  orderby     10       22.452215       114          10     11.098878   \n",
       "4    C3  orderby     10       22.260090       114          10     11.284136   \n",
       "\n",
       "   resume_time workload  run  \n",
       "0     0.088820   watdiv    1  \n",
       "1     0.088403   watdiv    2  \n",
       "2     0.089844   watdiv    3  \n",
       "3     0.125130   watdiv    1  \n",
       "4     0.121878   watdiv    2  "
      ]
     },
     "execution_count": 4,
     "metadata": {},
     "output_type": "execute_result"
    }
   ],
   "source": [
    "data.head()"
   ]
  }
 ],
 "metadata": {
  "kernelspec": {
   "display_name": "Python 3 (ipykernel)",
   "language": "python",
   "name": "python3"
  },
  "language_info": {
   "codemirror_mode": {
    "name": "ipython",
    "version": 3
   },
   "file_extension": ".py",
   "mimetype": "text/x-python",
   "name": "python",
   "nbconvert_exporter": "python",
   "pygments_lexer": "ipython3",
   "version": "3.9.7"
  }
 },
 "nbformat": 4,
 "nbformat_minor": 5
}
